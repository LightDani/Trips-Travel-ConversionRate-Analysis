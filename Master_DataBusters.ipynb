{
 "cells": [
  {
   "cell_type": "markdown",
   "metadata": {},
   "source": [
    "# Library"
   ]
  },
  {
   "cell_type": "code",
   "execution_count": null,
   "metadata": {},
   "outputs": [],
   "source": [
    "import numpy as np\n",
    "import pandas as pd\n",
    "import matplotlib.pyplot as plt\n",
    "import seaborn as sns\n",
    "import plotly.express as px\n",
    "from scipy.stats import chi2_contingency\n",
    "from sklearn.preprocessing import StandardScaler\n",
    "from sklearn.model_selection import train_test_split\n",
    "from sklearn.cluster import KMeans\n",
    "from imblearn import over_sampling"
   ]
  },
  {
   "cell_type": "markdown",
   "metadata": {},
   "source": [
    "# Importing Data"
   ]
  },
  {
   "cell_type": "code",
   "execution_count": null,
   "metadata": {},
   "outputs": [],
   "source": [
    "!gdown --id 1nn7kCgyManm3pz4p4pOnZRDyYBLx2ujo"
   ]
  },
  {
   "cell_type": "code",
   "execution_count": null,
   "metadata": {},
   "outputs": [],
   "source": [
    "df = pd.read_csv(\"Travel.csv\")"
   ]
  },
  {
   "cell_type": "markdown",
   "metadata": {},
   "source": [
    "# Stage 0"
   ]
  },
  {
   "cell_type": "markdown",
   "metadata": {},
   "source": [
    "## Data Understanding"
   ]
  },
  {
   "cell_type": "markdown",
   "metadata": {},
   "source": [
    "### Problem:\n",
    "Perusahaan 'Trips & Travel.Com' menawarkan lima jenis produk kepada pelanggan mereka, yaitu Paket Basic, Standard, Deluxe, Super Deluxe, dan King. Namun, berdasarkan data tahun lalu, terlihat tingkat konversi yang rendah, dimana hanya 18% dari pelanggan yang membeli paket yang ditawarkan. Perusahaan belum memanfaatkan informasi yang tersedia dari pelanggan dalam menawarkan produk dan menghubungi pelanggan secara  acak, sehingga biaya marketing menjadi tidak efisien."
   ]
  },
  {
   "cell_type": "markdown",
   "metadata": {},
   "source": [
    "### Goal:\n",
    "Dalam usaha ekspansi user base, perusahaan \"Trips & Travel.Com\" berencana menawarkan produk baru yaitu Wellness Tourism Package. Dalam meluncurkan produk baru, perusahaan ingin:\n",
    "* Meningkatkan conversion rate dari penawaran produk baru tersebut.\n",
    "* Membuat biaya marketing menjadi lebih efisien."
   ]
  },
  {
   "cell_type": "markdown",
   "metadata": {},
   "source": [
    "### Objectives:\n",
    "* Membuat model yang dapat memprediksi pelanggan yang berpotensi membeli paket baru.\n",
    "* Mengidentifikasi segmentasi pelanggan yang berpotensi membeli produk baru berdasarkan atribut mereka."
   ]
  },
  {
   "cell_type": "markdown",
   "metadata": {},
   "source": [
    "### Business Metrics:\n",
    "* Conversion Rate: Persentase dari pelanggan yang ditawarkan yang akhirnya membeli produk tersebut.\n",
    "* ROI (Return on Investment): Rasio dari nilai keuntungan terhadap biaya marketing."
   ]
  },
  {
   "cell_type": "markdown",
   "metadata": {},
   "source": [
    "# Stage 1"
   ]
  },
  {
   "cell_type": "markdown",
   "metadata": {},
   "source": [
    "## Defining numerical and categorical column"
   ]
  },
  {
   "cell_type": "code",
   "execution_count": null,
   "metadata": {},
   "outputs": [],
   "source": [
    "num_col = [\n",
    "    \"Age\",\n",
    "    \"MonthlyIncome\",\n",
    "    \"CityTier\",\n",
    "    \"NumberOfTrips\",\n",
    "    \"NumberOfPersonVisiting\",\n",
    "    \"NumberOfChildrenVisiting\",\n",
    "    \"DurationOfPitch\",\n",
    "    \"NumberOfFollowups\",\n",
    "    \"PreferredPropertyStar\",\n",
    "    \"PitchSatisfactionScore\",\n",
    "]\n",
    "\n",
    "cat_col = [\n",
    "    \"Passport\",\n",
    "    \"OwnCar\",\n",
    "    \"Gender\",\n",
    "    \"MaritalStatus\",\n",
    "    \"Occupation\",\n",
    "    \"Designation\",\n",
    "    \"ProductPitched\",\n",
    "]\n",
    "\n",
    "target = \"ProdTaken\""
   ]
  },
  {
   "cell_type": "markdown",
   "metadata": {},
   "source": [
    "## Descriptive Statistics"
   ]
  },
  {
   "cell_type": "code",
   "execution_count": null,
   "metadata": {},
   "outputs": [],
   "source": [
    "df[num_col].info()"
   ]
  },
  {
   "cell_type": "code",
   "execution_count": null,
   "metadata": {},
   "outputs": [],
   "source": [
    "df[num_col].describe()"
   ]
  },
  {
   "cell_type": "code",
   "execution_count": null,
   "metadata": {},
   "outputs": [],
   "source": [
    "df[cat_col].info()"
   ]
  },
  {
   "cell_type": "code",
   "execution_count": null,
   "metadata": {},
   "outputs": [],
   "source": [
    "df[cat_col].astype(str).describe()"
   ]
  },
  {
   "cell_type": "code",
   "execution_count": null,
   "metadata": {},
   "outputs": [],
   "source": [
    "for col in cat_col:\n",
    "    uniq = df[col].astype(str).unique().tolist()\n",
    "    print(f\"Kolom {col} memiliki {len(uniq)} unique Value(s): {', '.join(uniq)}\")"
   ]
  },
  {
   "cell_type": "code",
   "execution_count": null,
   "metadata": {},
   "outputs": [],
   "source": [
    "df[[target]].astype(str).describe()"
   ]
  },
  {
   "cell_type": "code",
   "execution_count": null,
   "metadata": {},
   "outputs": [],
   "source": [
    "print(\"Kolom\".ljust(26), end=\"\")\n",
    "print(\"Jumlah NaN\".ljust(23), end=\"\")\n",
    "print(\">20% of total\")\n",
    "\n",
    "for col, nMt, ratio in zip(\n",
    "    df.columns, df.isna().sum(), df.isna().sum() / len(df) * 100\n",
    "):\n",
    "    if nMt != 0:\n",
    "        print(f\"{col}\".ljust(30), end=\"\")\n",
    "        print(f\"{nMt}\".ljust(25), end=\"\")\n",
    "        print(\"Yes\") if ratio > 20 else print(\"No\")"
   ]
  },
  {
   "cell_type": "markdown",
   "metadata": {},
   "source": [
    "Insight:\n",
    "1. Age (Usia):\n",
    "    * Terdapat 226 missing values, tidak melampaui 20% dari total data\n",
    "    * Distribusi data mendekati normal dengan mean di 37.6 dan median di 36\n",
    "    * Usia termuda ada di umur 18\n",
    "    * Usia tertua ada di 61\n",
    "2. Monthly Income (Pendapatan bulanan):\n",
    "    * Terdapat 233 missing values, tidak melampaui 20% dari total data\n",
    "    * Distribusi data mendekati normal dengan mean di 23619.9$ dan median di 22347$\n",
    "    * Terdapat beberapa nilai ekstrim yang dapat dilihat dari nilai min yang jauh dari q1 yaitu 1000$ dan nilai max yang jauh dari q3 yaitu 98678$\n",
    "3. Number Of Trips (Jumlah rerata trip yang dilakukan customer pertahun):\n",
    "    * Terdapat 140 missing values, tidak melampaui 20% dari total data\n",
    "    * Distribusi data mendekati normal dengan mean di 3.2 dan median di 3\n",
    "    * Terdapat beberapa nilai ekstrim yang dapat dilihat dari nilai max yang jauh dari q3 yaitu 22\n",
    "4. Number of Person Visiting (Jumlah orang dewasa yang ikut trip):\n",
    "    * Paling umum customer mengajak 2-3 orang dewasa\n",
    "    * Terdapat juga yang hanya mengajak 1 orang, yang mungkin adalah orang terdekatnya\n",
    "    * Paling banyak customer pergi bersama 5 orang dewasa lainnya\n",
    "5. Number of Children Visiting (Jumlah balita yang ikut trip):\n",
    "    * Terdapat 66 missing values, tidak melampaui 20% dari total data\n",
    "    * Paling umum customer membawa 1-2 balita\n",
    "    * Terdapat customer yang sampai membawa 3 balita, namun juga ada yang tidak sama sekali\n",
    "6. Duration of Pitch (Durasi promosi):\n",
    "    * Terdapat 251 missing values, tidak melampaui 20% dari total data\n",
    "    * Distribusi data mendekati normal dengan mean di 15.5 dan median di 13\n",
    "    * Terdapat beberapa nilai ekstrim yang dapat dilihat dari nilai max yang jauh dari q3 yaitu 127\n",
    "7. Number of Follow ups (Jumlah tindak lanjut yang dilakukan setelah dilakukannya promosi):\n",
    "    * Terdapat 45 missing values, tidak melampaui 20% dari total data\n",
    "    * Distribusi data mendekati normal dengan mean di 3.7 dan median di 4\n",
    "    * Terdapat paling banyak 6 kali upaya tindak lanjut dan paling sedikit 1\n",
    "8. Passport (Apakah customer memiliki passport atau tidak):\n",
    "    * Sebanyak 71% customer tidak memiliki passport\n",
    "9. Own Car (Apakah customer memiliki mobil atau tidak):\n",
    "    * Sebanyak 62% customer memiliki mobil\n",
    "10. Gender (Jenis kelamin customer):\n",
    "    * Terdapat 3 gender, bisa jadi ini adalah kesalah tulis (typo)\n",
    "    * Sebanyak 60% customer berjenis kelamin pria\n",
    "11. Marital Status (Status pernikahan):\n",
    "    * Terdapat 4 status berbeda\n",
    "    * Sebanyak 48% customer berstatus menikah\n",
    "12. City Tier (Tingkat kelayakan kota yang dihuni customer):\n",
    "    * Terdapat 3 tingkatan kota\n",
    "    * Sebanyak 65% customer tinggal di kota tingkat 1\n",
    "13. Occupation (Tipe pekerjaan yang customer jalani):\n",
    "    * Terdapat 4 tipe pekerjaan\n",
    "    * Sebanyak 48% customer bekerja sebagai karyawan\n",
    "14. Designation (Jabatan pekerjaan dari customer):\n",
    "    * Terdapat 5 jabatan berbeda\n",
    "    * Sebanyak 38% customer memiliki jabatan eksekutif\n",
    "15. Preferred Property Star (Preferensi kelas hotel):\n",
    "    * Terdapat 26 missing values, tidak melampaui 20% dari total data\n",
    "    * Normalnya ada di range 1-5 tapi pada dataset hanya berkisar dari 3-5.\n",
    "    * Sebanyak 61% customer memilih untuk menyewa hotel bintang 3\n",
    "16. Pitch Satisfaction Score (Tingkat/nilai kepuasan customer terhadap promosi yang diberikan):\n",
    "    * Terdapat 5 tingkatan berbeda yaitu dari 1-5\n",
    "    * Sebanyak 30% customer memilih memberi nilai 3\n",
    "17. Product Pitched (Produk yang dikenalkan pada sesi promosi):\n",
    "    * Terdapat 5 produk berbeda yang memiliki tingkat yang berbeda\n",
    "    * Sebanyak 38% customer dikenalkan kepada produk Basic\n",
    "18. Product Taken (Apakah customer mengambil produk yang dikenalkan atau tidak):\n",
    "    * Sebanyak 81% tidak mengambil produk yang ditawarkan"
   ]
  },
  {
   "cell_type": "markdown",
   "metadata": {},
   "source": [
    "## Univariate Analysis"
   ]
  },
  {
   "cell_type": "code",
   "execution_count": null,
   "metadata": {},
   "outputs": [],
   "source": [
    "label_map = {\n",
    "    \"Designation\": {\n",
    "        \"Executive\": \"1\",\n",
    "        \"Manager\": \"2\",\n",
    "        \"Senior Manager\": \"3\",\n",
    "        \"AVP\": \"4\",\n",
    "        \"VP\": \"5\",\n",
    "    },\n",
    "    \"ProductPitched\": {\n",
    "        \"Basic\": \"1\",\n",
    "        \"Standard\": \"2\",\n",
    "        \"Deluxe\": \"3\",\n",
    "        \"Super Deluxe\": \"4\",\n",
    "        \"King\": \"5\",\n",
    "    },\n",
    "}"
   ]
  },
  {
   "cell_type": "code",
   "execution_count": null,
   "metadata": {},
   "outputs": [],
   "source": [
    "i = 1\n",
    "plt.figure(figsize=(10, 5 * len(num_col)))\n",
    "for col in num_col:\n",
    "    plt.subplot(len(num_col), 2, i)\n",
    "    sns.histplot(df, x=col, kde=True)\n",
    "    plt.title(\" \" * 90 + f\"Distribution of {col}\", pad=1)\n",
    "    i += 1\n",
    "    plt.subplot(len(num_col), 2, i)\n",
    "    sns.boxplot(df, x=col)\n",
    "    i += 1\n",
    "plt.tight_layout()"
   ]
  },
  {
   "cell_type": "code",
   "execution_count": null,
   "metadata": {},
   "outputs": [],
   "source": [
    "def key(col):\n",
    "    if col not in label_map:\n",
    "        return None\n",
    "    else:\n",
    "        return lambda x: x.map(label_map[col])\n",
    "\n",
    "\n",
    "i = 1\n",
    "plt.figure(figsize=(24, 13))\n",
    "for col in cat_col + [target]:\n",
    "    plt.subplot(2, 4, i)\n",
    "    ax = sns.countplot(df.sort_values(by=col, key=key(col)), x=col)\n",
    "    for p in ax.patches:\n",
    "        ax.annotate(\n",
    "            f\"{p.get_height()}\",\n",
    "            (p.get_x() + p.get_width() / 2.0, p.get_height()),\n",
    "            ha=\"center\",\n",
    "            va=\"center\",\n",
    "            xytext=(0, 5),\n",
    "            textcoords=\"offset points\",\n",
    "        )\n",
    "    plt.title(f\"Distribution of {col}\")\n",
    "    i += 1\n",
    "plt.show()\n",
    "\n",
    "# plt.subplot(122)\n",
    "# tmp = df.sort_values(by=col, key=key(col))[col].value_counts(sort=False) / len(df)\n",
    "# ax = sns.barplot(x=tmp.index, y=tmp.values)\n",
    "# plt.xlabel(col)\n",
    "# for p in ax.patches:\n",
    "#     ax.annotate(\n",
    "#         f\"{p.get_height()*100:.0f}%\",\n",
    "#         (p.get_x() + p.get_width() / 2.0, p.get_height()),\n",
    "#         ha=\"center\",\n",
    "#         va=\"center\",\n",
    "#         xytext=(0, 5),\n",
    "#         textcoords=\"offset points\",\n",
    "#     )"
   ]
  },
  {
   "cell_type": "markdown",
   "metadata": {},
   "source": [
    "- ProdTaken = 0 (tidak mengambil produk) jauh lebih banyak\n",
    "- Sebagian besar pelanggan tidak memiliki Passport\n",
    "- Lebih banyak pelanggan yang memiliki mobil\n",
    "- Gender yang paling banyak adalah Male. Ada sejumlah kecil pelanggan yang mencantumkan gendernya sebagai \"Fe Male\"\n",
    "- Sebagian besar pelanggan sudah menikah. Jumlah pelanggan yang sudah menikah jauh lebih besar dibandinigkan marital status lainnya (unmarried, divorced, dan single)\n",
    "- Sebagian besar pelanggan adalah karyawan. Untuk pelanggan yang mempunyai bisnis sendiri, lebih banyak pelanggan yang mempunyai bisnis kecil dibandingkan bisnis besar.\n",
    "- Jabatan yang paling banyak di adalah Executive, diikuti oleh Manager.\n",
    "- Produk yang paling sering ditawarkan adalah Basic. Produk yang paling jarang ditawarkan adalah King.\n"
   ]
  },
  {
   "cell_type": "markdown",
   "metadata": {},
   "source": [
    "## Multivariate Analysis"
   ]
  },
  {
   "cell_type": "code",
   "execution_count": null,
   "metadata": {},
   "outputs": [],
   "source": [
    "# Melihat korelasi antar kolom numerikal\n",
    "\n",
    "plt.figure(figsize=(12, 7))\n",
    "sns.heatmap(\n",
    "    df[num_col + [target]].corr(method=\"kendall\"),\n",
    "    annot=True,\n",
    "    cmap=\"coolwarm\",\n",
    "    fmt=\".3f\",\n",
    ")\n",
    "\n",
    "plt.title(\"Numerical Columns Correlation\")"
   ]
  },
  {
   "cell_type": "code",
   "execution_count": null,
   "metadata": {},
   "outputs": [],
   "source": [
    "# Melihat korelasi antar kolom kategorikal\n",
    "\n",
    "cat_col_target = cat_col + [target]\n",
    "\n",
    "p_values_matrix = np.zeros((len(cat_col_target), len(cat_col_target)))\n",
    "cramers_v_matrix = np.zeros((len(cat_col_target), len(cat_col_target)))\n",
    "\n",
    "for i in range(len(cat_col_target)):\n",
    "    for j in range(i + 1, len(cat_col_target)):\n",
    "        contingency_table = pd.crosstab(df[cat_col_target[i]], df[cat_col_target[j]])\n",
    "        chi2, p_value, _, _ = chi2_contingency(contingency_table)\n",
    "        n = contingency_table.sum().sum()\n",
    "        cramers_v = np.sqrt(chi2 / (n * (min(contingency_table.shape) - 1)))\n",
    "\n",
    "        p_values_matrix[i, j] = p_value\n",
    "        p_values_matrix[j, i] = p_value\n",
    "        cramers_v_matrix[i, j] = cramers_v\n",
    "        cramers_v_matrix[j, i] = cramers_v\n",
    "\n",
    "p_values_df = pd.DataFrame(\n",
    "    p_values_matrix, index=cat_col_target, columns=cat_col_target\n",
    ")\n",
    "cramers_v_df = pd.DataFrame(\n",
    "    cramers_v_matrix, index=cat_col_target, columns=cat_col_target\n",
    ")"
   ]
  },
  {
   "cell_type": "code",
   "execution_count": null,
   "metadata": {},
   "outputs": [],
   "source": [
    "plt.figure(figsize=(9, 6))\n",
    "sns.heatmap(\n",
    "    p_values_df,\n",
    "    annot=True,\n",
    "    cmap=\"coolwarm\",\n",
    "    fmt=\".3f\",\n",
    ")\n",
    "\n",
    "plt.title(\"Chi-Squared Test - Categorical Correlation\")"
   ]
  },
  {
   "cell_type": "markdown",
   "metadata": {},
   "source": [
    "* Chi2 test menunjukkan adanya korelasi apabila p-value nya <= alpha di mana alpha umumnya menggunakan 0.05\n",
    "* Target variabel (ProdTaken) memiliki korelasi dengan kolom: Passport, MaritalStatus, Occupation, Designation, ProductPitched"
   ]
  },
  {
   "cell_type": "code",
   "execution_count": null,
   "metadata": {},
   "outputs": [],
   "source": [
    "plt.figure(figsize=(9, 6))\n",
    "sns.heatmap(\n",
    "    cramers_v_df,\n",
    "    annot=True,\n",
    "    cmap=\"coolwarm\",\n",
    "    fmt=\".3f\",\n",
    ")\n",
    "\n",
    "plt.title(\"Cramer's V - Categorical Correlation\")"
   ]
  },
  {
   "cell_type": "markdown",
   "metadata": {},
   "source": [
    "* Nilai Cramer’s V berkisar antara 0 (tidak ada korelasi sama sekali) hingga 1 (sangat kuat/dependan)\n",
    "* Nilai Cramer’s V lebih menggambarkan dibanding dengan Chi2 test yang sebelumnya\n",
    "* Dengan menggunakan threshold 0.05 sebagai batas nilai bawah, target variabel (ProdTaken) berkorelasi dengan kolom: Passport, MaritalStatus, Occupation, Designation\n",
    "* Nilai Cramer’s V kolom Designation dengan ProductPitched menunjukkan adanya korelasi yang sangat tinggi (dependan), mendukung hipotesa awal bahwa company telah menargetkan produk tertentu kepada customer dengan jabatan tertentu\n",
    "* Passport, Marital Status, Designation, dan ProductPitched mempunyai korelasi yang paling tinggi dengan ProdTaken"
   ]
  },
  {
   "cell_type": "code",
   "execution_count": null,
   "metadata": {},
   "outputs": [],
   "source": [
    "df_temp = df.copy()\n",
    "df_temp[\"ProductPitched\"] = df_temp[\"ProductPitched\"].map(\n",
    "    {\"Basic\": 1, \"Standard\": 2, \"Deluxe\": 3, \"Super Deluxe\": 4, \"King\": 5}\n",
    ")\n",
    "df_temp[\"Designation\"] = df_temp[\"Designation\"].map(\n",
    "    {\"Executive\": 1, \"Manager\": 2, \"Senior Manager\": 3, \"AVP\": 4, \"VP\": 5}\n",
    ")"
   ]
  },
  {
   "cell_type": "code",
   "execution_count": null,
   "metadata": {},
   "outputs": [],
   "source": [
    "# Melihat seberapa besar korelasi antara pendapatan bulan dengan umur pelanggan\n",
    "\n",
    "corr = df_temp[[\"MonthlyIncome\", \"Age\", \"ProductPitched\"]].corr(method=\"spearman\")\n",
    "plt.figure(figsize=(9, 6))\n",
    "sns.heatmap(\n",
    "    corr,\n",
    "    annot=True,\n",
    "    cmap=\"coolwarm\",\n",
    "    fmt=\".3f\",\n",
    ")\n",
    "\n",
    "plt.title(\"Age-MonthlyIncome-Product Correlation\")"
   ]
  },
  {
   "cell_type": "markdown",
   "metadata": {},
   "source": [
    "* Pelanggan yang lebih muda cenderung memiliki pendapatan bulanan yang lebih rendah dibanding dengan pelanggan dengan umur yang lebih tua"
   ]
  },
  {
   "cell_type": "code",
   "execution_count": null,
   "metadata": {},
   "outputs": [],
   "source": [
    "# Melihat distribusi pendapatan bulanan dengan jabatan pelanggan\n",
    "\n",
    "sns.boxplot(\n",
    "    df_temp,\n",
    "    y=\"MonthlyIncome\",\n",
    "    x=\"Designation\",\n",
    ")\n",
    "\n",
    "plt.ylim(10000, 50000)"
   ]
  },
  {
   "cell_type": "code",
   "execution_count": null,
   "metadata": {},
   "outputs": [],
   "source": [
    "# Melihat distribusi umur dengan jabatan pelanggan\n",
    "\n",
    "sns.boxplot(\n",
    "    df_temp,\n",
    "    y=\"Age\",\n",
    "    x=\"Designation\",\n",
    ")"
   ]
  },
  {
   "cell_type": "code",
   "execution_count": null,
   "metadata": {},
   "outputs": [],
   "source": [
    "# Melihat apakah ada perbedaan pendapatan di beda cakupan perusahaan\n",
    "\n",
    "dop = (\n",
    "    df.groupby([\"Designation\", \"Occupation\"])[\"MonthlyIncome\"]\n",
    "    .median()\n",
    "    .unstack()\n",
    "    .sort_index(key=key(\"Designation\"))\n",
    ")\n",
    "dop.plot(kind=\"barh\")"
   ]
  },
  {
   "cell_type": "markdown",
   "metadata": {},
   "source": [
    "* Eksekutif merupakan jabatan dengan hirarki terendah bila dilihat dari pendapatan bulanannya, disusul dengan Manager, Senior Manager, AVP, dan VP\n",
    "* Pelanggan yang paling muda cenderung memiliki jabatan paling rendah, demikian juga memiliki pendapatan bulanan yang paling rendah\n",
    "* Sebaliknya, pelanggan yang lebih tua cenderung memiliki jabatan yang lebih tinggi, demikian pula memiliki pendapatan bulanan yang lebih tinggi\n",
    "* Perusahaan telah menargetkan produk yang paling terjangkau (Basic) hanya kepada pelanggan yang paling muda (sekitar 30 tahun), memiliki jabatan paling rendah (Executive), dan memiliki pendapatan bulanan yang paling rendah (sekitar 20.000\\$)\n",
    "* Sama seperti poin sebelumnya, produk produk lainnya juga disesuaikan hingga produk yang paling mewah (King) diberikan hanya kepada pelanggan yang sudah tua (sekitar 50 tahun), memiliki jabatan yang paling tinggi (VP), dan memiliki pendapatan bulanan yang paling tinggi (sekitar 35.000\\$)"
   ]
  }
 ],
 "metadata": {
  "kernelspec": {
   "display_name": "Python 3",
   "language": "python",
   "name": "python3"
  },
  "language_info": {
   "codemirror_mode": {
    "name": "ipython",
    "version": 3
   },
   "file_extension": ".py",
   "mimetype": "text/x-python",
   "name": "python",
   "nbconvert_exporter": "python",
   "pygments_lexer": "ipython3",
   "version": "3.10.7"
  },
  "orig_nbformat": 4
 },
 "nbformat": 4,
 "nbformat_minor": 2
}
