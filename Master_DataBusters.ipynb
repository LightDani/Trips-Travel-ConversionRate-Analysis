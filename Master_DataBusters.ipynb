{
 "cells": [
  {
   "cell_type": "markdown",
   "metadata": {},
   "source": [
    "# Library"
   ]
  },
  {
   "cell_type": "code",
   "execution_count": null,
   "metadata": {},
   "outputs": [],
   "source": [
    "import numpy as np\n",
    "import pandas as pd\n",
    "import matplotlib.pyplot as plt\n",
    "import seaborn as sns\n",
    "import plotly.express as px\n",
    "from scipy.stats import chi2_contingency\n",
    "from sklearn.preprocessing import StandardScaler\n",
    "from sklearn.model_selection import train_test_split\n",
    "from sklearn.cluster import KMeans\n",
    "from imblearn import over_sampling"
   ]
  },
  {
   "cell_type": "markdown",
   "metadata": {},
   "source": [
    "# Importing Data"
   ]
  },
  {
   "cell_type": "code",
   "execution_count": null,
   "metadata": {},
   "outputs": [],
   "source": [
    "!gdown --id 1nn7kCgyManm3pz4p4pOnZRDyYBLx2ujo"
   ]
  },
  {
   "cell_type": "code",
   "execution_count": null,
   "metadata": {},
   "outputs": [],
   "source": [
    "df = pd.read_csv(\"Travel.csv\")"
   ]
  },
  {
   "cell_type": "markdown",
   "metadata": {},
   "source": [
    "# Stage 0"
   ]
  },
  {
   "cell_type": "markdown",
   "metadata": {},
   "source": [
    "## Data Understanding"
   ]
  },
  {
   "cell_type": "markdown",
   "metadata": {},
   "source": [
    "### Problem:\n",
    "Perusahaan 'Trips & Travel.Com' menawarkan lima jenis produk kepada pelanggan mereka, yaitu Paket Basic, Standard, Deluxe, Super Deluxe, dan King. Namun, berdasarkan data tahun lalu, terlihat tingkat konversi yang rendah, dimana hanya 18% dari pelanggan yang membeli paket yang ditawarkan. Perusahaan belum memanfaatkan informasi yang tersedia dari pelanggan dalam menawarkan produk dan menghubungi pelanggan secara  acak, sehingga biaya marketing menjadi tidak efisien."
   ]
  },
  {
   "cell_type": "markdown",
   "metadata": {},
   "source": [
    "### Goal:\n",
    "Dalam usaha ekspansi user base, perusahaan \"Trips & Travel.Com\" berencana menawarkan produk baru yaitu Wellness Tourism Package. Dalam meluncurkan produk baru, perusahaan ingin:\n",
    "* Meningkatkan conversion rate dari penawaran produk baru tersebut.\n",
    "* Membuat biaya marketing menjadi lebih efisien."
   ]
  },
  {
   "cell_type": "markdown",
   "metadata": {},
   "source": [
    "### Objectives:\n",
    "* Membuat model yang dapat memprediksi pelanggan yang berpotensi membeli paket baru.\n",
    "* Mengidentifikasi segmentasi pelanggan yang berpotensi membeli produk baru berdasarkan atribut mereka."
   ]
  },
  {
   "cell_type": "markdown",
   "metadata": {},
   "source": [
    "### Business Metrics:\n",
    "* Conversion Rate: Persentase dari pelanggan yang ditawarkan yang akhirnya membeli produk tersebut.\n",
    "* ROI (Return on Investment): Rasio dari nilai keuntungan terhadap biaya marketing."
   ]
  },
  {
   "cell_type": "markdown",
   "metadata": {},
   "source": [
    "# Stage 1"
   ]
  },
  {
   "cell_type": "markdown",
   "metadata": {},
   "source": [
    "## Defining numerical and categorical column"
   ]
  },
  {
   "cell_type": "code",
   "execution_count": null,
   "metadata": {},
   "outputs": [],
   "source": [
    "num_col = [\n",
    "    \"Age\",\n",
    "    \"MonthlyIncome\",\n",
    "    \"CityTier\",\n",
    "    \"NumberOfTrips\",\n",
    "    \"NumberOfPersonVisiting\",\n",
    "    \"NumberOfChildrenVisiting\",\n",
    "    \"DurationOfPitch\",\n",
    "    \"NumberOfFollowups\",\n",
    "    \"PreferredPropertyStar\",\n",
    "    \"PitchSatisfactionScore\",\n",
    "]\n",
    "\n",
    "cat_col = [\n",
    "    \"Passport\",\n",
    "    \"OwnCar\",\n",
    "    \"Gender\",\n",
    "    \"MaritalStatus\",\n",
    "    \"Occupation\",\n",
    "    \"Designation\",\n",
    "    \"ProductPitched\",\n",
    "]\n",
    "\n",
    "target = \"ProdTaken\""
   ]
  },
  {
   "cell_type": "markdown",
   "metadata": {},
   "source": [
    "## Descriptive Statistics"
   ]
  },
  {
   "cell_type": "code",
   "execution_count": null,
   "metadata": {},
   "outputs": [],
   "source": [
    "df[num_col].info()"
   ]
  },
  {
   "cell_type": "code",
   "execution_count": null,
   "metadata": {},
   "outputs": [],
   "source": [
    "df[num_col].describe()"
   ]
  },
  {
   "cell_type": "code",
   "execution_count": null,
   "metadata": {},
   "outputs": [],
   "source": [
    "df[cat_col].info()"
   ]
  },
  {
   "cell_type": "code",
   "execution_count": null,
   "metadata": {},
   "outputs": [],
   "source": [
    "df[cat_col].astype(str).describe()"
   ]
  },
  {
   "cell_type": "code",
   "execution_count": null,
   "metadata": {},
   "outputs": [],
   "source": [
    "for col in cat_col:\n",
    "    uniq = df[col].astype(str).unique().tolist()\n",
    "    print(f\"Kolom {col} memiliki {len(uniq)} unique Value(s): {', '.join(uniq)}\")"
   ]
  },
  {
   "cell_type": "code",
   "execution_count": null,
   "metadata": {},
   "outputs": [],
   "source": [
    "df[[target]].astype(str).describe()"
   ]
  },
  {
   "cell_type": "code",
   "execution_count": null,
   "metadata": {},
   "outputs": [],
   "source": [
    "print(\"Kolom\".ljust(26), end=\"\")\n",
    "print(\"Jumlah NaN\".ljust(23), end=\"\")\n",
    "print(\">20% of total\")\n",
    "\n",
    "for col, nMt, ratio in zip(\n",
    "    df.columns, df.isna().sum(), df.isna().sum() / len(df) * 100\n",
    "):\n",
    "    if nMt != 0:\n",
    "        print(f\"{col}\".ljust(30), end=\"\")\n",
    "        print(f\"{nMt}\".ljust(25), end=\"\")\n",
    "        print(\"Yes\") if ratio > 20 else print(\"No\")"
   ]
  },
  {
   "cell_type": "markdown",
   "metadata": {},
   "source": [
    "Insight:\n",
    "1. Age (Usia):\n",
    "    * Terdapat 226 missing values, tidak melampaui 20% dari total data\n",
    "    * Distribusi data mendekati normal dengan mean di 37.6 dan median di 36\n",
    "    * Usia termuda ada di umur 18\n",
    "    * Usia tertua ada di 61\n",
    "2. Monthly Income (Pendapatan bulanan):\n",
    "    * Terdapat 233 missing values, tidak melampaui 20% dari total data\n",
    "    * Distribusi data mendekati normal dengan mean di 23619.9$ dan median di 22347$\n",
    "    * Terdapat beberapa nilai ekstrim yang dapat dilihat dari nilai min yang jauh dari q1 yaitu 1000$ dan nilai max yang jauh dari q3 yaitu 98678$\n",
    "3. Number Of Trips (Jumlah rerata trip yang dilakukan customer pertahun):\n",
    "    * Terdapat 140 missing values, tidak melampaui 20% dari total data\n",
    "    * Distribusi data mendekati normal dengan mean di 3.2 dan median di 3\n",
    "    * Terdapat beberapa nilai ekstrim yang dapat dilihat dari nilai max yang jauh dari q3 yaitu 22\n",
    "4. Number of Person Visiting (Jumlah orang dewasa yang ikut trip):\n",
    "    * Paling umum customer mengajak 2-3 orang dewasa\n",
    "    * Terdapat juga yang hanya mengajak 1 orang, yang mungkin adalah orang terdekatnya\n",
    "    * Paling banyak customer pergi bersama 5 orang dewasa lainnya\n",
    "5. Number of Children Visiting (Jumlah balita yang ikut trip):\n",
    "    * Terdapat 66 missing values, tidak melampaui 20% dari total data\n",
    "    * Paling umum customer membawa 1-2 balita\n",
    "    * Terdapat customer yang sampai membawa 3 balita, namun juga ada yang tidak sama sekali\n",
    "6. Duration of Pitch (Durasi promosi):\n",
    "    * Terdapat 251 missing values, tidak melampaui 20% dari total data\n",
    "    * Distribusi data mendekati normal dengan mean di 15.5 dan median di 13\n",
    "    * Terdapat beberapa nilai ekstrim yang dapat dilihat dari nilai max yang jauh dari q3 yaitu 127\n",
    "7. Number of Follow ups (Jumlah tindak lanjut yang dilakukan setelah dilakukannya promosi):\n",
    "    * Terdapat 45 missing values, tidak melampaui 20% dari total data\n",
    "    * Distribusi data mendekati normal dengan mean di 3.7 dan median di 4\n",
    "    * Terdapat paling banyak 6 kali upaya tindak lanjut dan paling sedikit 1\n",
    "8. Passport (Apakah customer memiliki passport atau tidak):\n",
    "    * Sebanyak 71% customer tidak memiliki passport\n",
    "9. Own Car (Apakah customer memiliki mobil atau tidak):\n",
    "    * Sebanyak 62% customer memiliki mobil\n",
    "10. Gender (Jenis kelamin customer):\n",
    "    * Terdapat 3 gender, bisa jadi ini adalah kesalah tulis (typo)\n",
    "    * Sebanyak 60% customer berjenis kelamin pria\n",
    "11. Marital Status (Status pernikahan):\n",
    "    * Terdapat 4 status berbeda\n",
    "    * Sebanyak 48% customer berstatus menikah\n",
    "12. City Tier (Tingkat kelayakan kota yang dihuni customer):\n",
    "    * Terdapat 3 tingkatan kota\n",
    "    * Sebanyak 65% customer tinggal di kota tingkat 1\n",
    "13. Occupation (Tipe pekerjaan yang customer jalani):\n",
    "    * Terdapat 4 tipe pekerjaan\n",
    "    * Sebanyak 48% customer bekerja sebagai karyawan\n",
    "14. Designation (Jabatan pekerjaan dari customer):\n",
    "    * Terdapat 5 jabatan berbeda\n",
    "    * Sebanyak 38% customer memiliki jabatan eksekutif\n",
    "15. Preferred Property Star (Preferensi kelas hotel):\n",
    "    * Terdapat 26 missing values, tidak melampaui 20% dari total data\n",
    "    * Normalnya ada di range 1-5 tapi pada dataset hanya berkisar dari 3-5.\n",
    "    * Sebanyak 61% customer memilih untuk menyewa hotel bintang 3\n",
    "16. Pitch Satisfaction Score (Tingkat/nilai kepuasan customer terhadap promosi yang diberikan):\n",
    "    * Terdapat 5 tingkatan berbeda yaitu dari 1-5\n",
    "    * Sebanyak 30% customer memilih memberi nilai 3\n",
    "17. Product Pitched (Produk yang dikenalkan pada sesi promosi):\n",
    "    * Terdapat 5 produk berbeda yang memiliki tingkat yang berbeda\n",
    "    * Sebanyak 38% customer dikenalkan kepada produk Basic\n",
    "18. Product Taken (Apakah customer mengambil produk yang dikenalkan atau tidak):\n",
    "    * Sebanyak 81% tidak mengambil produk yang ditawarkan"
   ]
  }
 ],
 "metadata": {
  "kernelspec": {
   "display_name": "Python 3",
   "language": "python",
   "name": "python3"
  },
  "language_info": {
   "codemirror_mode": {
    "name": "ipython",
    "version": 3
   },
   "file_extension": ".py",
   "mimetype": "text/x-python",
   "name": "python",
   "nbconvert_exporter": "python",
   "pygments_lexer": "ipython3",
   "version": "3.10.7"
  },
  "orig_nbformat": 4
 },
 "nbformat": 4,
 "nbformat_minor": 2
}
